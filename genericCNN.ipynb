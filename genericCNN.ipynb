{
  "nbformat": 4,
  "nbformat_minor": 0,
  "metadata": {
    "colab": {
      "provenance": [],
      "gpuType": "T4",
      "include_colab_link": true
    },
    "kernelspec": {
      "name": "python3",
      "display_name": "Python 3"
    },
    "language_info": {
      "name": "python"
    },
    "accelerator": "GPU"
  },
  "cells": [
    {
      "cell_type": "markdown",
      "metadata": {
        "id": "view-in-github",
        "colab_type": "text"
      },
      "source": [
        "<a href=\"https://colab.research.google.com/github/dineshRaja29/Input-Dimension-Free-CNN/blob/main/genericCNN.ipynb\" target=\"_parent\"><img src=\"https://colab.research.google.com/assets/colab-badge.svg\" alt=\"Open In Colab\"/></a>"
      ]
    },
    {
      "cell_type": "code",
      "execution_count": null,
      "metadata": {
        "id": "lDafwqLfQ8Bb"
      },
      "outputs": [],
      "source": [
        "# Shri Radhey"
      ]
    },
    {
      "cell_type": "markdown",
      "source": [
        "# <font color = 'green'><b>MOTIVATION:</b>\n",
        "\n",
        "\n",
        "*   While building the CNN we need to take care of input dimensions so much that any slight change in dimension leads to a change in the whole dimension.\n",
        "> *    A generic structure is needed which accepts any dimension of input.\n",
        "\n"
      ],
      "metadata": {
        "id": "91odH4v2ieT7"
      }
    },
    {
      "cell_type": "markdown",
      "source": [
        "# <font color = 'green'><b>GOAL:</b>\n",
        "To build the CNN in such a way it can accept any dimensions of input."
      ],
      "metadata": {
        "id": "e48Q7F70gmkG"
      }
    },
    {
      "cell_type": "markdown",
      "source": [
        "**OBJECTIVE:** To build the CNN in such a way it can accept any dimensions of input and it can also be used as a features extractor for any kind of image with arbitrary dimensions"
      ],
      "metadata": {
        "id": "jN3X70EqkrFw"
      }
    },
    {
      "cell_type": "markdown",
      "source": [
        "# <font color = 'green'><b>PERFORMANCE METRIC:</b>\n",
        "\n",
        "\n",
        "*  Overall Accuracy\n",
        "*  Multi-class precision and recall"
      ],
      "metadata": {
        "id": "VKOMoa1zjAs0"
      }
    },
    {
      "cell_type": "markdown",
      "source": [
        "# <font color = 'green'><b>DATASET:</b>\n",
        "\n",
        "\n",
        "*  Source: https://research.zalando.com/project/fashion_mnist/fashion_mnist/\n",
        "*  Fashion-MNIST is a dataset of Zalando’s article images consisting of 60,000 training examples and 10,000 test examples. Each example comprises a 28×28 grayscale image and an associated label from one of 10 classes."
      ],
      "metadata": {
        "id": "9FhfP_YTjt_-"
      }
    },
    {
      "cell_type": "markdown",
      "source": [
        "# <font color = 'green'><b>EXPERIMENT:</b>"
      ],
      "metadata": {
        "id": "sFmQMLbIlMTd"
      }
    },
    {
      "cell_type": "code",
      "source": [
        "# libraries\n",
        "import torch\n",
        "from torch.utils.data import Dataset, DataLoader\n",
        "from torchvision import datasets, transforms\n",
        "import matplotlib.pyplot as plt\n"
      ],
      "metadata": {
        "id": "O0_RhZ9BSHF8"
      },
      "execution_count": null,
      "outputs": []
    },
    {
      "cell_type": "code",
      "source": [
        "BATCH_SIZE = 128\n",
        "EPOCH = 15\n",
        "NUMBER_OF_INPUT_CHANNEL = 1\n",
        "NUMBER_OF_CLASSES = 10\n",
        "LEARNING_RATE = 1e-3\n",
        "BEST_LOSS = torch.inf\n",
        "BEST_MODEL = './bestmodel.pth'"
      ],
      "metadata": {
        "id": "Mtlo0dM1RRln"
      },
      "execution_count": null,
      "outputs": []
    },
    {
      "cell_type": "code",
      "source": [
        "def classification_report(model, loader, device):\n",
        "    from sklearn.metrics import classification_report\n",
        "    model.eval()\n",
        "    correct = []\n",
        "    total = []\n",
        "\n",
        "    for idx, (images, labels) in enumerate(loader):\n",
        "        images, labels = images.to(device), labels.to(device)\n",
        "        pred = model(images)\n",
        "        correct.extend(pred.argmax(1).tolist())  # Use tolist() instead of item()\n",
        "        total.extend(labels.tolist())  # Use tolist() instead of item()\n",
        "\n",
        "    target_names = [\"T-Shirt\", \"Trouser\", \"Pullover\", \"Dress\", \"Coat\",\n",
        "                    \"Sandal\", \"Shirt\", \"Sneaker\", \"Bag\", \"Ankle Boot\"]\n",
        "    print(classification_report(total, correct, target_names=target_names))\n",
        "\n",
        "    return 0"
      ],
      "metadata": {
        "id": "Q35r6phtPHkE"
      },
      "execution_count": null,
      "outputs": []
    },
    {
      "cell_type": "code",
      "source": [
        "def accuracy_calculation(model, loader, device):\n",
        "\n",
        "    model.eval()\n",
        "    correct = 0.0\n",
        "    total = 0.0\n",
        "\n",
        "    for idx, (images, labels) in enumerate(loader):\n",
        "        images, labels = images.to(device), labels.to(device)\n",
        "        pred = model(images)\n",
        "        correct += (pred.argmax(1) == labels).type(torch.float).sum().item()\n",
        "        total += len(labels)\n",
        "\n",
        "    accuracy = (correct / total) * 100\n",
        "\n",
        "    return \"{:.3f}\".format(accuracy)\n"
      ],
      "metadata": {
        "id": "ihI7p-8AIh4K"
      },
      "execution_count": null,
      "outputs": []
    },
    {
      "cell_type": "code",
      "source": [
        "# shifting the computations on the hardware accelerator\n",
        "device = (torch.device(\"cuda\")\n",
        "          if torch.cuda.is_available()\n",
        "          else torch.device(\"mps\")\n",
        "          if torch.backends.mps.is_available()\n",
        "          else torch.device(\"cpu\"))\n",
        "print(f'Hardware Accelerator is {device}')"
      ],
      "metadata": {
        "colab": {
          "base_uri": "https://localhost:8080/"
        },
        "id": "HdfygeqYRh-l",
        "outputId": "46011424-4023-42d0-da5d-23069f3e4261"
      },
      "execution_count": null,
      "outputs": [
        {
          "output_type": "stream",
          "name": "stdout",
          "text": [
            "Hardware Accelerator is cuda\n"
          ]
        }
      ]
    },
    {
      "cell_type": "code",
      "source": [
        "%%capture\n",
        "training_data = datasets.FashionMNIST(\n",
        "    root=\"data\",\n",
        "    train=True,\n",
        "    download=True,\n",
        "    transform=transforms.ToTensor()\n",
        ")\n"
      ],
      "metadata": {
        "id": "a8Yabx4DSv_F"
      },
      "execution_count": null,
      "outputs": []
    },
    {
      "cell_type": "code",
      "source": [
        "# checking whether images are RGB or Grayscale\n",
        "\n",
        "image, label = training_data[0]\n",
        "shape = image.shape[0]\n",
        "\n",
        "if shape == 1:\n",
        "    print('Images are Gray scale')\n",
        "else:\n",
        "    if shape == 3:\n",
        "        print('Images are RGB')\n",
        "    else:\n",
        "        print('Something is out of place')\n",
        "        raise Exception"
      ],
      "metadata": {
        "colab": {
          "base_uri": "https://localhost:8080/"
        },
        "id": "e9pKlgqNYJLt",
        "outputId": "e1f5fb70-e1a3-4b80-beb0-5873d82400d6"
      },
      "execution_count": null,
      "outputs": [
        {
          "output_type": "stream",
          "name": "stdout",
          "text": [
            "Images are Gray scale\n"
          ]
        }
      ]
    },
    {
      "cell_type": "code",
      "source": [
        "# computing mean and std-dev\n",
        "mean = 0.0\n",
        "std = 0.0\n",
        "total_samples = len(training_data)\n",
        "for image, _ in training_data:\n",
        "    mean += torch.mean(image)\n",
        "    std += torch.std(image)\n",
        "\n",
        "# normalizing for the entire data\n",
        "\n",
        "mean /= total_samples\n",
        "std /= total_samples\n",
        "\n",
        "print(f'Mean of the data is {mean}')\n",
        "print(f'Std-dev of the data is {std}')"
      ],
      "metadata": {
        "colab": {
          "base_uri": "https://localhost:8080/"
        },
        "id": "VQTIwfd3aSnv",
        "outputId": "43a58714-2b7b-4e02-ef3b-b0894bb8ec63"
      },
      "execution_count": null,
      "outputs": [
        {
          "output_type": "stream",
          "name": "stdout",
          "text": [
            "Mean of the data is 0.28604063391685486\n",
            "Std-dev of the data is 0.3204546272754669\n"
          ]
        }
      ]
    },
    {
      "cell_type": "code",
      "source": [
        "labels_map = {\n",
        "    0: \"T-Shirt\",\n",
        "    1: \"Trouser\",\n",
        "    2: \"Pullover\",\n",
        "    3: \"Dress\",\n",
        "    4: \"Coat\",\n",
        "    5: \"Sandal\",\n",
        "    6: \"Shirt\",\n",
        "    7: \"Sneaker\",\n",
        "    8: \"Bag\",\n",
        "    9: \"Ankle Boot\",\n",
        "}\n",
        "figure = plt.figure(figsize=(8, 8))\n",
        "cols, rows = 3, 3\n",
        "for i in range(1, cols * rows + 1):\n",
        "    sample_idx = torch.randint(len(training_data), size=(1,)).item()\n",
        "    img, label = training_data[sample_idx]\n",
        "    figure.add_subplot(rows, cols, i)\n",
        "    plt.title(labels_map[label])\n",
        "    plt.axis(\"off\")\n",
        "    # print(img.shape, img.squeeze().shape)\n",
        "    plt.imshow(img.squeeze(), cmap=\"gray\") # https://pytorch.org/docs/stable/generated/torch.squeeze.html\n",
        "plt.show()"
      ],
      "metadata": {
        "colab": {
          "base_uri": "https://localhost:8080/",
          "height": 675
        },
        "id": "USkAyV6GfNFn",
        "outputId": "623eb8ef-c780-4386-b20c-1c32bf582530"
      },
      "execution_count": null,
      "outputs": [
        {
          "output_type": "display_data",
          "data": {
            "text/plain": [
              "<Figure size 800x800 with 9 Axes>"
            ],
            "image/png": "[encoded data removed]"
          },
          "metadata": {}
        }
      ]
    },
    {
      "cell_type": "code",
      "source": [
        "del training_data\n",
        "transformations = transforms.Compose(\n",
        "                    [transforms.ToTensor(),\n",
        "                     transforms.Normalize(mean, std),\n",
        "                    ])\n",
        "\n",
        "\n",
        "training_data = datasets.FashionMNIST(\n",
        "    root=\"data\",\n",
        "    train=True,\n",
        "    download=True,\n",
        "    transform=transformations\n",
        ")\n",
        "\n",
        "test_data = datasets.FashionMNIST(\n",
        "    root=\"data\",\n",
        "    train=False,\n",
        "    download=True,\n",
        "    transform=transformations\n",
        ")\n"
      ],
      "metadata": {
        "id": "CgXHd74ic-_7"
      },
      "execution_count": null,
      "outputs": []
    },
    {
      "cell_type": "code",
      "source": [
        "print(f'Training Samples: {len(training_data)}')\n",
        "print(f'Testing Samples: {len(test_data)}')"
      ],
      "metadata": {
        "colab": {
          "base_uri": "https://localhost:8080/"
        },
        "id": "Fzgq8p9oXPMH",
        "outputId": "a9ac6aaa-372d-42d9-e739-8d12c9f33df3"
      },
      "execution_count": null,
      "outputs": [
        {
          "output_type": "stream",
          "name": "stdout",
          "text": [
            "Training Samples: 60000\n",
            "Testing Samples: 10000\n"
          ]
        }
      ]
    },
    {
      "cell_type": "code",
      "source": [
        "train_dataloader = DataLoader(training_data, batch_size = BATCH_SIZE, shuffle = True)\n",
        "test_dataloader = DataLoader(test_data, batch_size = BATCH_SIZE, shuffle = True)"
      ],
      "metadata": {
        "id": "aAbqKFE2h7BM"
      },
      "execution_count": null,
      "outputs": []
    },
    {
      "cell_type": "code",
      "source": [
        "class Model(torch.nn.Module):\n",
        "    def __init__(self):\n",
        "        super().__init__()\n",
        "        self.backbone = torch.nn.Sequential(\n",
        "                        torch.nn.Conv2d(NUMBER_OF_INPUT_CHANNEL, 256, 5, padding = 'same' ),\n",
        "                        torch.nn.ReLU(),\n",
        "                        torch.nn.MaxPool2d(2,2),\n",
        "                        torch.nn.Conv2d(256, 128, 3, padding = 'same' ),\n",
        "                        torch.nn.ReLU(),\n",
        "                        torch.nn.MaxPool2d(2,2),\n",
        "                        torch.nn.Conv2d(128, 64, 2, padding = 'same' ),\n",
        "                        torch.nn.ReLU(),\n",
        "                        torch.nn.MaxPool2d(2,2),\n",
        "                        torch.nn.AdaptiveAvgPool2d((1, 1))\n",
        "        )\n",
        "\n",
        "        self.classifier = torch.nn.Sequential(\n",
        "                        torch.nn.Linear(64, 32),\n",
        "                        torch.nn.ReLU(),\n",
        "                        torch.nn.Linear(32, NUMBER_OF_CLASSES)\n",
        "        )\n",
        "\n",
        "        self._initialize()  # Initialize the linear layers\n",
        "\n",
        "    def _initialize(self):\n",
        "        for layer in self.classifier:\n",
        "            if isinstance(layer, torch.nn.Linear):\n",
        "                print(f'Initializing layer {layer.__class__}')\n",
        "                torch.nn.init.xavier_uniform_(layer.weight)\n",
        "                torch.nn.init.zeros_(layer.bias)\n",
        "\n",
        "\n",
        "    def forward(self, x):\n",
        "        x = self.backbone(x)\n",
        "        x = torch.flatten(x, 1)  # Flatten the output before feeding to classifier\n",
        "        x = self.classifier(x)\n",
        "        return x\n",
        "\n"
      ],
      "metadata": {
        "id": "k84scb0WaDX5"
      },
      "execution_count": null,
      "outputs": []
    },
    {
      "cell_type": "code",
      "source": [
        "model = Model()\n",
        "model.to(device)\n",
        "print(model)"
      ],
      "metadata": {
        "colab": {
          "base_uri": "https://localhost:8080/"
        },
        "id": "pu9Os6LI_96v",
        "outputId": "baa4e293-aea9-4dfb-d5e0-0a2ea3204753"
      },
      "execution_count": null,
      "outputs": [
        {
          "output_type": "stream",
          "name": "stdout",
          "text": [
            "Initializing layer <class 'torch.nn.modules.linear.Linear'>\n",
            "Initializing layer <class 'torch.nn.modules.linear.Linear'>\n",
            "Model(\n",
            "  (backbone): Sequential(\n",
            "    (0): Conv2d(1, 256, kernel_size=(5, 5), stride=(1, 1), padding=same)\n",
            "    (1): ReLU()\n",
            "    (2): MaxPool2d(kernel_size=2, stride=2, padding=0, dilation=1, ceil_mode=False)\n",
            "    (3): Conv2d(256, 128, kernel_size=(3, 3), stride=(1, 1), padding=same)\n",
            "    (4): ReLU()\n",
            "    (5): MaxPool2d(kernel_size=2, stride=2, padding=0, dilation=1, ceil_mode=False)\n",
            "    (6): Conv2d(128, 64, kernel_size=(2, 2), stride=(1, 1), padding=same)\n",
            "    (7): ReLU()\n",
            "    (8): MaxPool2d(kernel_size=2, stride=2, padding=0, dilation=1, ceil_mode=False)\n",
            "    (9): AdaptiveAvgPool2d(output_size=(1, 1))\n",
            "  )\n",
            "  (classifier): Sequential(\n",
            "    (0): Linear(in_features=64, out_features=32, bias=True)\n",
            "    (1): ReLU()\n",
            "    (2): Linear(in_features=32, out_features=10, bias=True)\n",
            "  )\n",
            ")\n"
          ]
        }
      ]
    },
    {
      "cell_type": "code",
      "source": [
        "# Check if model parameters are on GPU\n",
        "for name, param in model.named_parameters():\n",
        "    print(f\"Parameter {name} is on device: {param.device}\")"
      ],
      "metadata": {
        "colab": {
          "base_uri": "https://localhost:8080/"
        },
        "id": "R80ufPD39qkz",
        "outputId": "c747c0f6-e26a-4dd7-9cf9-7eb2c9c68359"
      },
      "execution_count": null,
      "outputs": [
        {
          "output_type": "stream",
          "name": "stdout",
          "text": [
            "Parameter backbone.0.weight is on device: cuda:0\n",
            "Parameter backbone.0.bias is on device: cuda:0\n",
            "Parameter backbone.3.weight is on device: cuda:0\n",
            "Parameter backbone.3.bias is on device: cuda:0\n",
            "Parameter backbone.6.weight is on device: cuda:0\n",
            "Parameter backbone.6.bias is on device: cuda:0\n",
            "Parameter classifier.0.weight is on device: cuda:0\n",
            "Parameter classifier.0.bias is on device: cuda:0\n",
            "Parameter classifier.2.weight is on device: cuda:0\n",
            "Parameter classifier.2.bias is on device: cuda:0\n"
          ]
        }
      ]
    },
    {
      "cell_type": "code",
      "source": [
        "loss_function = torch.nn.CrossEntropyLoss()\n",
        "optimizer = torch.optim.SGD(model.parameters(), lr = LEARNING_RATE)"
      ],
      "metadata": {
        "id": "3VI8S9EU9yS_"
      },
      "execution_count": null,
      "outputs": []
    },
    {
      "cell_type": "code",
      "source": [
        "for epoch in range(EPOCH):\n",
        "    # model stage to training\n",
        "    model.train()\n",
        "    # running loss\n",
        "    running_loss = 0\n",
        "    for idx, (images, labels) in enumerate(train_dataloader):\n",
        "        images, labels = images.to(device), labels.to(device)\n",
        "\n",
        "        # Forward pass\n",
        "        optimizer.zero_grad()\n",
        "        with torch.set_grad_enabled(True):\n",
        "            predictions = model(images)\n",
        "            loss = loss_function(predictions, labels)\n",
        "            loss.backward()\n",
        "            optimizer.step()\n",
        "\n",
        "        running_loss += loss.item()\n",
        "\n",
        "    print(f'{epoch + 1}/{EPOCH}: Loss is {running_loss/(idx + 1)}')\n",
        "    print(f'Accuracy: {accuracy_calculation(model, train_dataloader, device)} %')\n",
        "    if running_loss < BEST_LOSS:\n",
        "        BEST_LOSS = running_loss\n",
        "        print(f'Saving the best model for Epoch {epoch +1}')\n",
        "        torch.save(model.state_dict(), BEST_MODEL)"
      ],
      "metadata": {
        "colab": {
          "base_uri": "https://localhost:8080/"
        },
        "id": "4sXUgrGl-FfP",
        "outputId": "18aaf456-fd32-4f88-e003-6c05e3d85f9b"
      },
      "execution_count": null,
      "outputs": [
        {
          "output_type": "stream",
          "name": "stderr",
          "text": [
            "/usr/local/lib/python3.10/dist-packages/torch/nn/modules/conv.py:456: UserWarning: Using padding='same' with even kernel lengths and odd dilation may require a zero-padded copy of the input be created (Triggered internally at ../aten/src/ATen/native/Convolution.cpp:1040.)\n",
            "  return F.conv2d(input, weight, bias, self.stride,\n"
          ]
        },
        {
          "output_type": "stream",
          "name": "stdout",
          "text": [
            "1/15: Loss is 2.2061374228137898\n",
            "Accuracy: 39.117 %\n",
            "Saving the best model for Epoch 1\n",
            "2/15: Loss is 2.003292555239663\n",
            "Accuracy: 40.552 %\n",
            "Saving the best model for Epoch 2\n",
            "3/15: Loss is 1.7799427966827523\n",
            "Accuracy: 48.670 %\n",
            "Saving the best model for Epoch 3\n",
            "4/15: Loss is 1.5847775582819859\n",
            "Accuracy: 57.323 %\n",
            "Saving the best model for Epoch 4\n",
            "5/15: Loss is 1.3954870388197747\n",
            "Accuracy: 63.073 %\n",
            "Saving the best model for Epoch 5\n",
            "6/15: Loss is 1.219822682297306\n",
            "Accuracy: 64.675 %\n",
            "Saving the best model for Epoch 6\n",
            "7/15: Loss is 1.0795451429352831\n",
            "Accuracy: 67.057 %\n",
            "Saving the best model for Epoch 7\n",
            "8/15: Loss is 0.9798052370675338\n",
            "Accuracy: 68.687 %\n",
            "Saving the best model for Epoch 8\n",
            "9/15: Loss is 0.9129312535338818\n",
            "Accuracy: 69.560 %\n",
            "Saving the best model for Epoch 9\n",
            "10/15: Loss is 0.867197701417561\n",
            "Accuracy: 70.247 %\n",
            "Saving the best model for Epoch 10\n",
            "11/15: Loss is 0.8335542094224552\n",
            "Accuracy: 70.873 %\n",
            "Saving the best model for Epoch 11\n",
            "12/15: Loss is 0.8073468238814299\n",
            "Accuracy: 71.822 %\n",
            "Saving the best model for Epoch 12\n",
            "13/15: Loss is 0.7859977920934844\n",
            "Accuracy: 72.243 %\n",
            "Saving the best model for Epoch 13\n",
            "14/15: Loss is 0.7679247614671426\n",
            "Accuracy: 72.837 %\n",
            "Saving the best model for Epoch 14\n",
            "15/15: Loss is 0.7512021785351768\n",
            "Accuracy: 73.365 %\n",
            "Saving the best model for Epoch 15\n"
          ]
        }
      ]
    },
    {
      "cell_type": "markdown",
      "source": [
        "# <font color = 'green'><b>RESULTS:</b>\n",
        "\n"
      ],
      "metadata": {
        "id": "I9EIYhdHlGb2"
      }
    },
    {
      "cell_type": "code",
      "source": [
        "print('Training Data')\n",
        "print('\\tClassification Report:')\n",
        "print('\\t\\t',classification_report(model, train_dataloader, device))"
      ],
      "metadata": {
        "id": "xvdB_z3GDE3l",
        "colab": {
          "base_uri": "https://localhost:8080/"
        },
        "outputId": "23696885-8e70-44af-cffe-4d2a872b0d0e"
      },
      "execution_count": null,
      "outputs": [
        {
          "output_type": "stream",
          "name": "stdout",
          "text": [
            "Training Data\n",
            "\tClassification Report:\n",
            "              precision    recall  f1-score   support\n",
            "\n",
            "     T-Shirt       0.66      0.77      0.71      6000\n",
            "     Trouser       0.98      0.91      0.94      6000\n",
            "    Pullover       0.52      0.67      0.59      6000\n",
            "       Dress       0.72      0.83      0.77      6000\n",
            "        Coat       0.58      0.57      0.58      6000\n",
            "      Sandal       0.79      0.82      0.81      6000\n",
            "       Shirt       0.41      0.19      0.26      6000\n",
            "     Sneaker       0.83      0.77      0.80      6000\n",
            "         Bag       0.93      0.88      0.90      6000\n",
            "  Ankle Boot       0.83      0.92      0.87      6000\n",
            "\n",
            "    accuracy                           0.73     60000\n",
            "   macro avg       0.73      0.73      0.72     60000\n",
            "weighted avg       0.73      0.73      0.72     60000\n",
            "\n",
            "\t\t 0\n"
          ]
        }
      ]
    },
    {
      "cell_type": "code",
      "source": [
        "print('Testing Data')\n",
        "print('\\tClassification Report:')\n",
        "print('\\t\\t',classification_report(model, test_dataloader, device))"
      ],
      "metadata": {
        "id": "DYMcM1pUDGml",
        "colab": {
          "base_uri": "https://localhost:8080/"
        },
        "outputId": "dd7f0c7b-cee1-48b0-f90b-1f6324593ec8"
      },
      "execution_count": null,
      "outputs": [
        {
          "output_type": "stream",
          "name": "stdout",
          "text": [
            "Testing Data\n",
            "\tClassification Report:\n",
            "              precision    recall  f1-score   support\n",
            "\n",
            "     T-Shirt       0.65      0.75      0.69      1000\n",
            "     Trouser       0.98      0.91      0.94      1000\n",
            "    Pullover       0.51      0.67      0.58      1000\n",
            "       Dress       0.72      0.80      0.75      1000\n",
            "        Coat       0.57      0.57      0.57      1000\n",
            "      Sandal       0.82      0.82      0.82      1000\n",
            "       Shirt       0.36      0.17      0.23      1000\n",
            "     Sneaker       0.84      0.80      0.82      1000\n",
            "         Bag       0.91      0.88      0.90      1000\n",
            "  Ankle Boot       0.82      0.93      0.87      1000\n",
            "\n",
            "    accuracy                           0.73     10000\n",
            "   macro avg       0.72      0.73      0.72     10000\n",
            "weighted avg       0.72      0.73      0.72     10000\n",
            "\n",
            "\t\t 0\n"
          ]
        }
      ]
    },
    {
      "cell_type": "markdown",
      "source": [
        "# <font color = 'green'><b>REFERENCES:</b>\n",
        "\n",
        "\n",
        "*   https://pytorch.org/tutorials/beginner/basics/data_tutorial.html\n",
        "*   https://pytorch.org/tutorials/beginner/basics/quickstart_tutorial.html\n",
        "*   https://pytorch.org/docs/stable/generated/torch.nn.AdaptiveAvgPool2d.html\n",
        "\n",
        "\n",
        "\n"
      ],
      "metadata": {
        "id": "LbpUp74SlWYR"
      }
    }
  ]
}